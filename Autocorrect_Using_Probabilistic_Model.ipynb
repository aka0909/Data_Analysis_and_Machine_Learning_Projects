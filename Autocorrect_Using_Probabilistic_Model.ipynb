{
  "nbformat": 4,
  "nbformat_minor": 0,
  "metadata": {
    "colab": {
      "name": "Autocorrect_Using_Probabilistic_Model.ipynb",
      "provenance": []
    },
    "kernelspec": {
      "name": "python3",
      "display_name": "Python 3"
    },
    "language_info": {
      "name": "python"
    }
  },
  "cells": [
    {
      "cell_type": "code",
      "metadata": {
        "id": "HynSYNg57ri0"
      },
      "source": [
        "import re\n",
        "from collections import Counter\n",
        "import numpy as np\n",
        "import pandas as pd\n",
        "\n",
        "\n",
        "\n"
      ],
      "execution_count": 2,
      "outputs": []
    },
    {
      "cell_type": "code",
      "metadata": {
        "id": "fGSlzRTO8Ljh"
      },
      "source": [
        "def pre_process_data(file_name):\n",
        "  words=[]\n",
        "  with open(file_name) as f:\n",
        "    file_name_data=f.read()\n",
        "    file_name_data=file_name_data.lower()\n",
        "    words=re.findall('\\w+',file_name_data)\n",
        "  return words"
      ],
      "execution_count": 3,
      "outputs": []
    },
    {
      "cell_type": "code",
      "metadata": {
        "colab": {
          "base_uri": "https://localhost:8080/"
        },
        "id": "sKZoKzn_8JZA",
        "outputId": "c0d066b3-1a0f-4008-f989-ae04762d5e7a"
      },
      "source": [
        "words_list=pre_process_data('/content/drive/MyDrive/shakespeare (1).txt')\n",
        "vocab=set(words_list)\n",
        "print(words_list[0:10])\n",
        "print(len(vocab))\n"
      ],
      "execution_count": 4,
      "outputs": [
        {
          "output_type": "stream",
          "text": [
            "['o', 'for', 'a', 'muse', 'of', 'fire', 'that', 'would', 'ascend', 'the']\n",
            "6116\n"
          ],
          "name": "stdout"
        }
      ]
    },
    {
      "cell_type": "code",
      "metadata": {
        "id": "_de-Vu7G9Wr6"
      },
      "source": [
        "def get_word_count(words_list):\n",
        "  word_count_dict={}\n",
        "  word_count_dict=Counter(words_list)\n",
        "  return word_count_dict"
      ],
      "execution_count": 5,
      "outputs": []
    },
    {
      "cell_type": "code",
      "metadata": {
        "colab": {
          "base_uri": "https://localhost:8080/"
        },
        "id": "jWFWQNNn9qmK",
        "outputId": "2c24c924-b5ad-44ea-bc17-da724d900a17"
      },
      "source": [
        "word_count_dict = get_word_count(words_list)\n",
        "print(len(word_count_dict))\n",
        "print(word_count_dict.get('thee',0))"
      ],
      "execution_count": 6,
      "outputs": [
        {
          "output_type": "stream",
          "text": [
            "6116\n",
            "240\n"
          ],
          "name": "stdout"
        }
      ]
    },
    {
      "cell_type": "code",
      "metadata": {
        "id": "eGndoocn97bK"
      },
      "source": [
        "def get_probab(word_count_dict):\n",
        "  probab={}\n",
        "  total=sum(word_count_dict.values())\n",
        "  for key in word_count_dict.keys():\n",
        "    probab[key]=word_count_dict[key]/total\n",
        "  return probab"
      ],
      "execution_count": 10,
      "outputs": []
    },
    {
      "cell_type": "code",
      "metadata": {
        "colab": {
          "base_uri": "https://localhost:8080/"
        },
        "id": "tENXYYQY-c-O",
        "outputId": "31304661-85a5-48fc-8fa4-61d719b63565"
      },
      "source": [
        "probabs = get_probab(word_count_dict)\n",
        "print(len(probabs))\n",
        "print(f\"P('thee') is {probabs['thee']:.4f}\")"
      ],
      "execution_count": 11,
      "outputs": [
        {
          "output_type": "stream",
          "text": [
            "6116\n",
            "P('thee') is 0.0045\n"
          ],
          "name": "stdout"
        }
      ]
    },
    {
      "cell_type": "code",
      "metadata": {
        "id": "ZlTm3MYS_Gsh"
      },
      "source": [
        "def delete_letter(word, flag=False):\n",
        "\n",
        "    delete_l = []\n",
        "    split_l = []\n",
        "  \n",
        "    for i in range(len(word)):\n",
        "        split_l.append((word[:i],word[i:]))\n",
        "    for L,R in split_l:\n",
        "        delete_l.append(L+R[1:])          \n",
        "\n",
        "    if flag: print(f\"input word {word}, \\nsplit_l = {split_l}, \\ndelete_l = {delete_l}\")\n",
        "\n",
        "    return delete_l"
      ],
      "execution_count": 12,
      "outputs": []
    },
    {
      "cell_type": "code",
      "metadata": {
        "colab": {
          "base_uri": "https://localhost:8080/"
        },
        "id": "23VlUCy__-UK",
        "outputId": "6dfde544-a278-4b6f-b758-8546b6ecfb74"
      },
      "source": [
        "delete_test = delete_letter(word=\"answer\",flag=True)"
      ],
      "execution_count": 13,
      "outputs": [
        {
          "output_type": "stream",
          "text": [
            "input word answer, \n",
            "split_l = [('', 'answer'), ('a', 'nswer'), ('an', 'swer'), ('ans', 'wer'), ('answ', 'er'), ('answe', 'r')], \n",
            "delete_l = ['nswer', 'aswer', 'anwer', 'anser', 'answr', 'answe']\n"
          ],
          "name": "stdout"
        }
      ]
    },
    {
      "cell_type": "code",
      "metadata": {
        "id": "1fDD5PEwAIjT"
      },
      "source": [
        "def switch_letter(word, flag=False):\n",
        "\n",
        "    switch_l = []\n",
        "    split_l = []\n",
        "    len_word=len(word)\n",
        "    \n",
        "    for i in range(len_word):\n",
        "        split_l.append((word[:i],word[i:]))\n",
        "    switch_l = [L + R[1] + R[0] + R[2:] for L,R in split_l if len(R) >= 2]      \n",
        "\n",
        "    if flag: print(f\"Input word = {word} \\nsplit_l = {split_l} \\nswitch_l = {switch_l}\") \n",
        "\n",
        "    return switch_l"
      ],
      "execution_count": 14,
      "outputs": []
    },
    {
      "cell_type": "code",
      "metadata": {
        "colab": {
          "base_uri": "https://localhost:8080/"
        },
        "id": "MaQ3cKg3A-z4",
        "outputId": "88bd7ba5-b0fb-4e24-bdfa-836e0440a3ef"
      },
      "source": [
        "switch_test = switch_letter(word=\"anita\",flag=True)"
      ],
      "execution_count": 15,
      "outputs": [
        {
          "output_type": "stream",
          "text": [
            "Input word = anita \n",
            "split_l = [('', 'anita'), ('a', 'nita'), ('an', 'ita'), ('ani', 'ta'), ('anit', 'a')] \n",
            "switch_l = ['naita', 'ainta', 'antia', 'aniat']\n"
          ],
          "name": "stdout"
        }
      ]
    },
    {
      "cell_type": "code",
      "metadata": {
        "id": "NjhkLeWXBMdS"
      },
      "source": [
        "def replace_letter(word, flag=False):\n",
        "\n",
        "    letters = 'abcdefghijklmnopqrstuvwxyz'\n",
        "    replace_l = []\n",
        "    split_l = []\n",
        "\n",
        "    \n",
        "    for i in range(len(word)):\n",
        "        split_l.append((word[0:i],word[i:]))\n",
        "    replace_l = [L + letter + (R[1:] if len(R)> 1 else '') for L,R in split_l if R for letter in letters]\n",
        "    replace_set=set(replace_l)    \n",
        "    replace_set.remove(word)\n",
        "\n",
        "    replace_l = sorted(list(replace_set))\n",
        "    \n",
        "    if flag: print(f\"Input word = {word} \\nsplit_l = {split_l} \\nreplace_l {replace_l}\")   \n",
        "    \n",
        "    return replace_l"
      ],
      "execution_count": 16,
      "outputs": []
    },
    {
      "cell_type": "code",
      "metadata": {
        "colab": {
          "base_uri": "https://localhost:8080/"
        },
        "id": "9YodrxgRB4zh",
        "outputId": "0efa08ef-a81e-4b38-9404-5a82fa9d25cd"
      },
      "source": [
        "replace_test = replace_letter(word='mini',flag=True)"
      ],
      "execution_count": 17,
      "outputs": [
        {
          "output_type": "stream",
          "text": [
            "Input word = mini \n",
            "split_l = [('', 'mini'), ('m', 'ini'), ('mi', 'ni'), ('min', 'i')] \n",
            "replace_l ['aini', 'bini', 'cini', 'dini', 'eini', 'fini', 'gini', 'hini', 'iini', 'jini', 'kini', 'lini', 'mani', 'mbni', 'mcni', 'mdni', 'meni', 'mfni', 'mgni', 'mhni', 'miai', 'mibi', 'mici', 'midi', 'miei', 'mifi', 'migi', 'mihi', 'miii', 'miji', 'miki', 'mili', 'mimi', 'mina', 'minb', 'minc', 'mind', 'mine', 'minf', 'ming', 'minh', 'minj', 'mink', 'minl', 'minm', 'minn', 'mino', 'minp', 'minq', 'minr', 'mins', 'mint', 'minu', 'minv', 'minw', 'minx', 'miny', 'minz', 'mioi', 'mipi', 'miqi', 'miri', 'misi', 'miti', 'miui', 'mivi', 'miwi', 'mixi', 'miyi', 'mizi', 'mjni', 'mkni', 'mlni', 'mmni', 'mnni', 'moni', 'mpni', 'mqni', 'mrni', 'msni', 'mtni', 'muni', 'mvni', 'mwni', 'mxni', 'myni', 'mzni', 'nini', 'oini', 'pini', 'qini', 'rini', 'sini', 'tini', 'uini', 'vini', 'wini', 'xini', 'yini', 'zini']\n"
          ],
          "name": "stdout"
        }
      ]
    },
    {
      "cell_type": "code",
      "metadata": {
        "id": "ZtiQyWuHCCJ2"
      },
      "source": [
        "def insert_letter(word, flag=False):\n",
        "\n",
        "    letters = 'abcdefghijklmnopqrstuvwxyz'\n",
        "    insert_l = []\n",
        "    split_l = []\n",
        "\n",
        "    for i in range(len(word)+1):\n",
        "        split_l.append((word[0:i],word[i:]))\n",
        "    insert_l = [ L + letter + R for L,R in split_l for letter in letters]\n",
        "\n",
        "    if flag: print(f\"Input word {word} \\nsplit_l = {split_l} \\ninsert_l = {insert_l}\")\n",
        "    \n",
        "    return insert_l"
      ],
      "execution_count": 20,
      "outputs": []
    },
    {
      "cell_type": "code",
      "metadata": {
        "colab": {
          "base_uri": "https://localhost:8080/"
        },
        "id": "sxrtQiI9Ciu5",
        "outputId": "34c67e62-6b3a-4707-ebad-5e0aa438e3eb"
      },
      "source": [
        "insert_test = insert_letter('cat', True)"
      ],
      "execution_count": 21,
      "outputs": [
        {
          "output_type": "stream",
          "text": [
            "Input word cat \n",
            "split_l = [('', 'cat'), ('c', 'at'), ('ca', 't'), ('cat', '')] \n",
            "insert_l = ['acat', 'bcat', 'ccat', 'dcat', 'ecat', 'fcat', 'gcat', 'hcat', 'icat', 'jcat', 'kcat', 'lcat', 'mcat', 'ncat', 'ocat', 'pcat', 'qcat', 'rcat', 'scat', 'tcat', 'ucat', 'vcat', 'wcat', 'xcat', 'ycat', 'zcat', 'caat', 'cbat', 'ccat', 'cdat', 'ceat', 'cfat', 'cgat', 'chat', 'ciat', 'cjat', 'ckat', 'clat', 'cmat', 'cnat', 'coat', 'cpat', 'cqat', 'crat', 'csat', 'ctat', 'cuat', 'cvat', 'cwat', 'cxat', 'cyat', 'czat', 'caat', 'cabt', 'cact', 'cadt', 'caet', 'caft', 'cagt', 'caht', 'cait', 'cajt', 'cakt', 'calt', 'camt', 'cant', 'caot', 'capt', 'caqt', 'cart', 'cast', 'catt', 'caut', 'cavt', 'cawt', 'caxt', 'cayt', 'cazt', 'cata', 'catb', 'catc', 'catd', 'cate', 'catf', 'catg', 'cath', 'cati', 'catj', 'catk', 'catl', 'catm', 'catn', 'cato', 'catp', 'catq', 'catr', 'cats', 'catt', 'catu', 'catv', 'catw', 'catx', 'caty', 'catz']\n"
          ],
          "name": "stdout"
        }
      ]
    },
    {
      "cell_type": "code",
      "metadata": {
        "id": "IkMdkQrMCyFL"
      },
      "source": [
        "def edit_one_letter(word):\n",
        "\n",
        "    edit_one_set = set()\n",
        "      \n",
        "    edit_one_set.update(delete_letter(word))\n",
        "    edit_one_set.update(switch_letter(word))\n",
        "    edit_one_set.update(replace_letter(word))\n",
        "    edit_one_set.update(insert_letter(word))\n",
        "\n",
        "    return edit_one_set"
      ],
      "execution_count": 22,
      "outputs": []
    },
    {
      "cell_type": "code",
      "metadata": {
        "colab": {
          "base_uri": "https://localhost:8080/"
        },
        "id": "q0C-Mt2IDc-g",
        "outputId": "b338d125-3bed-42e6-8d74-548b29b0330b"
      },
      "source": [
        "test_word = \"ti\"\n",
        "test_edit_one_set = edit_one_letter(test_word)\n",
        "\n",
        "test_edit_one_l = sorted(list(test_edit_one_set))\n",
        "\n",
        "print(f\"input word {test_word} \\nedit_one_l \\n{test_edit_one_l}\\n\")\n",
        "print(len(test_edit_one_l))"
      ],
      "execution_count": 25,
      "outputs": [
        {
          "output_type": "stream",
          "text": [
            "input word ti \n",
            "edit_one_l \n",
            "['ai', 'ati', 'bi', 'bti', 'ci', 'cti', 'di', 'dti', 'ei', 'eti', 'fi', 'fti', 'gi', 'gti', 'hi', 'hti', 'i', 'ii', 'it', 'iti', 'ji', 'jti', 'ki', 'kti', 'li', 'lti', 'mi', 'mti', 'ni', 'nti', 'oi', 'oti', 'pi', 'pti', 'qi', 'qti', 'ri', 'rti', 'si', 'sti', 't', 'ta', 'tai', 'tb', 'tbi', 'tc', 'tci', 'td', 'tdi', 'te', 'tei', 'tf', 'tfi', 'tg', 'tgi', 'th', 'thi', 'tia', 'tib', 'tic', 'tid', 'tie', 'tif', 'tig', 'tih', 'tii', 'tij', 'tik', 'til', 'tim', 'tin', 'tio', 'tip', 'tiq', 'tir', 'tis', 'tit', 'tiu', 'tiv', 'tiw', 'tix', 'tiy', 'tiz', 'tj', 'tji', 'tk', 'tki', 'tl', 'tli', 'tm', 'tmi', 'tn', 'tni', 'to', 'toi', 'tp', 'tpi', 'tq', 'tqi', 'tr', 'tri', 'ts', 'tsi', 'tt', 'tti', 'tu', 'tui', 'tv', 'tvi', 'tw', 'twi', 'tx', 'txi', 'ty', 'tyi', 'tz', 'tzi', 'ui', 'uti', 'vi', 'vti', 'wi', 'wti', 'xi', 'xti', 'yi', 'yti', 'zi', 'zti']\n",
            "\n",
            "129\n"
          ],
          "name": "stdout"
        }
      ]
    },
    {
      "cell_type": "code",
      "metadata": {
        "id": "naYCqyqYDw1D"
      },
      "source": [
        "def edit_two_letters(word):\n",
        "    \n",
        "    edit_two_set = set()\n",
        "\n",
        "    edit_one = edit_one_letter(word)\n",
        "    for w in edit_one:\n",
        "        if w:\n",
        "            edit_two = edit_one_letter(w)\n",
        "            edit_two_set.update(edit_two)\n",
        "\n",
        "    return edit_two_set"
      ],
      "execution_count": 26,
      "outputs": []
    },
    {
      "cell_type": "code",
      "metadata": {
        "colab": {
          "base_uri": "https://localhost:8080/"
        },
        "id": "1ZqVN1L9EI1h",
        "outputId": "d204a89f-2fa3-4973-e2fa-f50901a0c660"
      },
      "source": [
        "test_edit_two_set = edit_two_letters(\"m\")\n",
        "test_edit_two_l = sorted(list(test_edit_two_set))\n",
        "print(f\"Number of strings with two edit distance: {len(test_edit_two_l)}\")\n",
        "print(f\"First 10 strings {test_edit_two_l[:10]}\")\n",
        "print(f\"Last 10 strings {test_edit_two_l[-10:]}\")"
      ],
      "execution_count": 27,
      "outputs": [
        {
          "output_type": "stream",
          "text": [
            "Number of strings with two edit distance: 2654\n",
            "First 10 strings ['', 'a', 'aa', 'aam', 'ab', 'abm', 'ac', 'acm', 'ad', 'adm']\n",
            "Last 10 strings ['zv', 'zvm', 'zw', 'zwm', 'zx', 'zxm', 'zy', 'zym', 'zz', 'zzm']\n"
          ],
          "name": "stdout"
        }
      ]
    },
    {
      "cell_type": "code",
      "metadata": {
        "id": "PLXXMb8sE-IY"
      },
      "source": [
        "def get_corrections(word, probabs, vocab):\n",
        "    \n",
        "    suggestions = []\n",
        "    n_best = []\n",
        "\n",
        "    suggestions = list((word in vocab and word) or edit_one_letter(word).intersection(vocab) or edit_two_letters(word).intersection(vocab))\n",
        "    n_best = [[s,probabs[s]] for s in list(reversed(suggestions))]\n",
        "\n",
        "    return n_best"
      ],
      "execution_count": 37,
      "outputs": []
    },
    {
      "cell_type": "code",
      "metadata": {
        "colab": {
          "base_uri": "https://localhost:8080/"
        },
        "id": "B_bS4xTtFOnq",
        "outputId": "9e076f5f-718d-4423-9adb-f4578fce5bf0"
      },
      "source": [
        "my_word = 'heath' \n",
        "corrections = get_corrections(my_word, probabs, vocab)\n",
        "for i, word_prob in enumerate(corrections):\n",
        "    print(f\"word {i}: {word_prob[0]}, probability {word_prob[1]:.6f}\")\n"
      ],
      "execution_count": 38,
      "outputs": [
        {
          "output_type": "stream",
          "text": [
            "word 0: health, probability 0.000168\n",
            "word 1: death, probability 0.000783\n",
            "word 2: heat, probability 0.000131\n",
            "word 3: heats, probability 0.000019\n",
            "word 4: hath, probability 0.002145\n"
          ],
          "name": "stdout"
        }
      ]
    },
    {
      "cell_type": "code",
      "metadata": {
        "colab": {
          "base_uri": "https://localhost:8080/"
        },
        "id": "MOGq3VQ4GBAq",
        "outputId": "4b1bac68-7fea-498e-f824-0507d49db442"
      },
      "source": [
        "my_word_2 = 'cary' \n",
        "corrections = get_corrections(my_word_2, probabs, vocab)\n",
        "for i, word_prob in enumerate(corrections):\n",
        "    print(f\"word {i}: {word_prob[0]}, probability {word_prob[1]:.6f}\")"
      ],
      "execution_count": 40,
      "outputs": [
        {
          "output_type": "stream",
          "text": [
            "word 0: cry, probability 0.000075\n",
            "word 1: care, probability 0.000224\n",
            "word 2: carry, probability 0.000131\n",
            "word 3: cars, probability 0.000019\n",
            "word 4: chary, probability 0.000019\n",
            "word 5: wary, probability 0.000019\n",
            "word 6: carp, probability 0.000019\n"
          ],
          "name": "stdout"
        }
      ]
    }
  ]
}